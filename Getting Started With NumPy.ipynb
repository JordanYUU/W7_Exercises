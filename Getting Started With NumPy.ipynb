{
 "cells": [
  {
   "cell_type": "markdown",
   "id": "10fb8da2-023d-4fa2-a522-513e59ef7aba",
   "metadata": {},
   "source": [
    "# NumPy Fundamentals"
   ]
  },
  {
   "cell_type": "code",
   "execution_count": 1,
   "id": "2c85f138-60cc-4f54-b8f5-6f4791f73fdd",
   "metadata": {},
   "outputs": [],
   "source": [
    "import numpy as np"
   ]
  },
  {
   "cell_type": "markdown",
   "id": "842c5c31-97e6-4bbf-be79-3c7426cb563c",
   "metadata": {},
   "source": [
    "### Array Basis"
   ]
  },
  {
   "cell_type": "code",
   "execution_count": 2,
   "id": "7b0e39ee-208e-4c0d-88ad-36c8269afbb5",
   "metadata": {
    "editable": true,
    "slideshow": {
     "slide_type": ""
    },
    "tags": []
   },
   "outputs": [],
   "source": [
    "fruits = ['apple', 'banana', 'cherry', 'date',]"
   ]
  },
  {
   "cell_type": "code",
   "execution_count": 3,
   "id": "2dfb962e-12bf-4a30-9a67-c78071281be5",
   "metadata": {},
   "outputs": [
    {
     "data": {
      "text/plain": [
       "array([['apple', 'banana', 'cherry', 'date']], dtype='<U6')"
      ]
     },
     "execution_count": 3,
     "metadata": {},
     "output_type": "execute_result"
    }
   ],
   "source": [
    "arr_1 = np.array([fruits])\n",
    "arr_1"
   ]
  },
  {
   "cell_type": "code",
   "execution_count": 4,
   "id": "18d2be00-d7de-4863-8817-d8810af3c1fb",
   "metadata": {},
   "outputs": [
    {
     "data": {
      "text/plain": [
       "dtype('<U6')"
      ]
     },
     "execution_count": 4,
     "metadata": {},
     "output_type": "execute_result"
    }
   ],
   "source": [
    "arr_1 = np.array([fruits])\n",
    "arr_1.dtype"
   ]
  },
  {
   "cell_type": "code",
   "execution_count": 5,
   "id": "1583b125-4cc5-4def-8724-1f1be6b02cda",
   "metadata": {},
   "outputs": [],
   "source": [
    "# A dtype result of <U6 means the most amount of characters\n",
    "# any of the array's strings has is 6. Remove Banana & Cherry, \n",
    "# and it returns <U5. Remove Apple too and it returns <U4"
   ]
  },
  {
   "cell_type": "code",
   "execution_count": 6,
   "id": "163c227b-5029-408c-a729-23db546cac70",
   "metadata": {},
   "outputs": [
    {
     "data": {
      "text/plain": [
       "array([[10, 11, 12],\n",
       "       [13, 14, 15]])"
      ]
     },
     "execution_count": 6,
     "metadata": {},
     "output_type": "execute_result"
    }
   ],
   "source": [
    "arr_2 = np.array([[10, 11, 12], [13, 14, 15]])\n",
    "arr_2"
   ]
  },
  {
   "cell_type": "code",
   "execution_count": 7,
   "id": "6b709ed6-1a34-42af-bbdb-2b361e1e4f25",
   "metadata": {},
   "outputs": [
    {
     "data": {
      "text/plain": [
       "array([[10, 13],\n",
       "       [11, 14],\n",
       "       [12, 15]])"
      ]
     },
     "execution_count": 7,
     "metadata": {},
     "output_type": "execute_result"
    }
   ],
   "source": [
    "arr_2.T"
   ]
  },
  {
   "cell_type": "code",
   "execution_count": 8,
   "id": "78060793-48bd-41cb-b205-28ac541d150b",
   "metadata": {},
   "outputs": [],
   "source": [
    "# Transposing the array will basically invert its dimensions\n",
    "# ...at least I think that's how it works"
   ]
  },
  {
   "cell_type": "code",
   "execution_count": 9,
   "id": "bbec1185-a8cc-4d70-9920-ba1a97176255",
   "metadata": {},
   "outputs": [
    {
     "data": {
      "text/plain": [
       "array([[1, 3, 5],\n",
       "       [2, 4, 6]])"
      ]
     },
     "execution_count": 9,
     "metadata": {},
     "output_type": "execute_result"
    }
   ],
   "source": [
    "arr_3 = np.array([[1, 3, 5], [2, 4, 6]])\n",
    "arr_3"
   ]
  },
  {
   "cell_type": "code",
   "execution_count": 26,
   "id": "4affca5e-ad5c-4752-90b1-a3798d015984",
   "metadata": {},
   "outputs": [
    {
     "data": {
      "text/plain": [
       "(np.int64(5), np.int64(4))"
      ]
     },
     "execution_count": 26,
     "metadata": {},
     "output_type": "execute_result"
    }
   ],
   "source": [
    "arr_4 = arr_3[0, 2], arr_3[1, 1]\n",
    "arr_4"
   ]
  },
  {
   "cell_type": "code",
   "execution_count": null,
   "id": "24f6f8d3-1193-4aeb-b9a1-3e29fd778e51",
   "metadata": {},
   "outputs": [],
   "source": [
    "# This returns the specified values within the second dimnesion\n",
    "# from arr_3, being 5 and 4 respecively"
   ]
  },
  {
   "cell_type": "code",
   "execution_count": null,
   "id": "f5c45a08-680c-41fd-9f30-5cb04f7054a4",
   "metadata": {},
   "outputs": [],
   "source": [
    "arr_5"
   ]
  }
 ],
 "metadata": {
  "kernelspec": {
   "display_name": "Python 3 (ipykernel)",
   "language": "python",
   "name": "python3"
  },
  "language_info": {
   "codemirror_mode": {
    "name": "ipython",
    "version": 3
   },
   "file_extension": ".py",
   "mimetype": "text/x-python",
   "name": "python",
   "nbconvert_exporter": "python",
   "pygments_lexer": "ipython3",
   "version": "3.13.0rc1"
  }
 },
 "nbformat": 4,
 "nbformat_minor": 5
}
