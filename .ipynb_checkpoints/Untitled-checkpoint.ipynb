{
 "cells": [
  {
   "cell_type": "markdown",
   "id": "61cbb392-be23-40d1-8617-49565eb9fdb1",
   "metadata": {},
   "source": [
    "Jupyter Follow Along"
   ]
  },
  {
   "cell_type": "code",
   "execution_count": 1,
   "id": "7b138820-72a1-47be-b074-74862e8b2823",
   "metadata": {},
   "outputs": [],
   "source": [
    "import numpy as np"
   ]
  },
  {
   "cell_type": "code",
   "execution_count": 2,
   "id": "6de40de3-b197-4083-ac4c-90f912af5cc5",
   "metadata": {},
   "outputs": [
    {
     "data": {
      "text/plain": [
       "[('cucumber', 'celery'), ('avocado', 'kale')]"
      ]
     },
     "execution_count": 2,
     "metadata": {},
     "output_type": "execute_result"
    }
   ],
   "source": [
    "veg = [('cucumber', 'celery'), ('avocado', 'kale')]\n",
    "veg"
   ]
  },
  {
   "cell_type": "code",
   "execution_count": 3,
   "id": "4a14bc72-e5f3-4c84-abb0-f801ebe6d5f1",
   "metadata": {},
   "outputs": [
    {
     "data": {
      "text/plain": [
       "array([['cucumber', 'celery'],\n",
       "       ['avocado', 'kale']], dtype='<U8')"
      ]
     },
     "execution_count": 3,
     "metadata": {},
     "output_type": "execute_result"
    }
   ],
   "source": [
    "array_veg = np.array(veg)\n",
    "array_veg"
   ]
  },
  {
   "cell_type": "code",
   "execution_count": 4,
   "id": "883b61d4-3a10-4bbc-960e-733bb2f4cd61",
   "metadata": {},
   "outputs": [
    {
     "ename": "NameError",
     "evalue": "name 'array' is not defined",
     "output_type": "error",
     "traceback": [
      "\u001b[1;31m---------------------------------------------------------------------------\u001b[0m",
      "\u001b[1;31mNameError\u001b[0m                                 Traceback (most recent call last)",
      "Cell \u001b[1;32mIn[4], line 1\u001b[0m\n\u001b[1;32m----> 1\u001b[0m \u001b[43marray\u001b[49m([[\u001b[38;5;124m'\u001b[39m\u001b[38;5;124mcucumber\u001b[39m\u001b[38;5;124m'\u001b[39m, \u001b[38;5;124m'\u001b[39m\u001b[38;5;124mcelery\u001b[39m\u001b[38;5;124m'\u001b[39m], [\u001b[38;5;124m'\u001b[39m\u001b[38;5;124mavocado\u001b[39m\u001b[38;5;124m'\u001b[39m, \u001b[38;5;124m'\u001b[39m\u001b[38;5;124mkale\u001b[39m\u001b[38;5;124m'\u001b[39m]], dtype\u001b[38;5;241m=\u001b[39m\u001b[38;5;124m'\u001b[39m\u001b[38;5;124m<U8\u001b[39m\u001b[38;5;124m'\u001b[39m)\n",
      "\u001b[1;31mNameError\u001b[0m: name 'array' is not defined"
     ]
    }
   ],
   "source": [
    "array([['cucumber', 'celery'], ['avocado', 'kale']], dtype='<U8')"
   ]
  },
  {
   "cell_type": "raw",
   "id": "91be3250-d101-4d09-97dd-d036550e11d8",
   "metadata": {},
   "source": [
    "print(array_veg)"
   ]
  },
  {
   "cell_type": "code",
   "execution_count": null,
   "id": "04166ed3-6088-480b-aaa0-ef23cd4fcf83",
   "metadata": {},
   "outputs": [],
   "source": [
    "array_veg.ndim"
   ]
  },
  {
   "cell_type": "code",
   "execution_count": null,
   "id": "46cc5da4-a54b-458c-8e59-209244a89e88",
   "metadata": {},
   "outputs": [],
   "source": [
    "array_veg.size"
   ]
  },
  {
   "cell_type": "code",
   "execution_count": null,
   "id": "7ef9af9c-d6f2-44dd-b22c-9146d1b49d61",
   "metadata": {},
   "outputs": [],
   "source": [
    "array_veg.shape"
   ]
  },
  {
   "cell_type": "code",
   "execution_count": null,
   "id": "bbc7ae68-bcf1-4bf7-8f9c-5c6219a3b060",
   "metadata": {},
   "outputs": [],
   "source": [
    "array([['cucumber', 'avocado'], \n",
    "       ['celery', 'kale']], dtype='<U8')"
   ]
  },
  {
   "cell_type": "raw",
   "id": "4810fe23-ae65-405f-a289-33f7ca043214",
   "metadata": {},
   "source": []
  },
  {
   "cell_type": "code",
   "execution_count": null,
   "id": "15cef0e6-f50d-4c6f-800e-3fc615532d32",
   "metadata": {},
   "outputs": [],
   "source": []
  },
  {
   "cell_type": "code",
   "execution_count": null,
   "id": "edfb218a-e6b3-4d4a-a1a2-a13908e85e75",
   "metadata": {},
   "outputs": [],
   "source": []
  }
 ],
 "metadata": {
  "kernelspec": {
   "display_name": "Python 3 (ipykernel)",
   "language": "python",
   "name": "python3"
  },
  "language_info": {
   "codemirror_mode": {
    "name": "ipython",
    "version": 3
   },
   "file_extension": ".py",
   "mimetype": "text/x-python",
   "name": "python",
   "nbconvert_exporter": "python",
   "pygments_lexer": "ipython3",
   "version": "3.13.0rc1"
  }
 },
 "nbformat": 4,
 "nbformat_minor": 5
}
