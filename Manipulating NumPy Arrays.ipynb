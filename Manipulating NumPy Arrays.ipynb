{
 "cells": [
  {
   "cell_type": "code",
   "execution_count": 1,
   "id": "495fdcb1-2e26-4a27-9a21-d2e8b69bbf58",
   "metadata": {},
   "outputs": [],
   "source": [
    "import numpy as np"
   ]
  },
  {
   "cell_type": "markdown",
   "id": "51c7f3c8-90eb-424b-b3f3-5442d010570f",
   "metadata": {},
   "source": [
    "## Looping Through Arrays"
   ]
  },
  {
   "cell_type": "code",
   "execution_count": 2,
   "id": "74e24e96-5c22-4854-aa78-852d4e2351fd",
   "metadata": {},
   "outputs": [
    {
     "data": {
      "text/plain": [
       "array([[11, 12, 13],\n",
       "       [14, 15, 16]])"
      ]
     },
     "execution_count": 2,
     "metadata": {},
     "output_type": "execute_result"
    }
   ],
   "source": [
    "arrA = np.array([[11, 12, 13], [14, 15, 16]])\n",
    "arrA"
   ]
  },
  {
   "cell_type": "code",
   "execution_count": 3,
   "id": "31ec2230-1459-4cc7-bd38-ea7b45538d15",
   "metadata": {},
   "outputs": [
    {
     "name": "stdout",
     "output_type": "stream",
     "text": [
      "[22 24 26]\n",
      "[28 30 32]\n"
     ]
    }
   ],
   "source": [
    "for x in arrA:\n",
    "    print(x*2)"
   ]
  },
  {
   "cell_type": "code",
   "execution_count": 4,
   "id": "a32516b9-7889-45d6-8474-e1e746259e39",
   "metadata": {},
   "outputs": [
    {
     "name": "stdout",
     "output_type": "stream",
     "text": [
      "22\n",
      "24\n",
      "26\n",
      "28\n",
      "30\n",
      "32\n"
     ]
    }
   ],
   "source": [
    "for x in arrA:\n",
    "    # for y in (x*2):\n",
    "    for y in x:\n",
    "        print(y*2)"
   ]
  },
  {
   "cell_type": "markdown",
   "id": "b3d7e1ff-bbe1-40f0-a587-a00b53964ecd",
   "metadata": {},
   "source": [
    "In the first loop, we strip our array down to 2 1D elements.\n",
    "In the second loop, we strip our array down to the 6 0D elements.\n",
    "After which, the result for y is multiplied by 2."
   ]
  },
  {
   "cell_type": "code",
   "execution_count": 5,
   "id": "6588ec21-bb58-4854-98e9-384056c07df0",
   "metadata": {},
   "outputs": [
    {
     "name": "stdout",
     "output_type": "stream",
     "text": [
      "[np.int64(22), np.int64(24), np.int64(26), np.int64(28), np.int64(30), np.int64(32)]\n"
     ]
    }
   ],
   "source": [
    " loop_result = []\n",
    "# for x in arrA:\n",
    "#     for y in x:\n",
    "#         print(loop_result)\n",
    "\n",
    "# for (loop_result) in arrA:\n",
    "#     for y in (loop_result):\n",
    "#         print(y)\n",
    "\n",
    "for x in arrA:\n",
    "    for y in x:\n",
    "        loop_result.append(y * 2)\n",
    "\n",
    "print(loop_result)"
   ]
  },
  {
   "cell_type": "markdown",
   "id": "46a2f6ae-66b4-4bea-93cd-70f14de7524b",
   "metadata": {},
   "source": [
    "## Joining & Stacking Arrays"
   ]
  },
  {
   "cell_type": "code",
   "execution_count": 6,
   "id": "8e045e1d-ebea-4729-8949-7e3acafa1e4c",
   "metadata": {},
   "outputs": [
    {
     "data": {
      "text/plain": [
       "array([[11, 12, 13],\n",
       "       [14, 15, 16],\n",
       "       [11, 12, 13],\n",
       "       [14, 15, 16]])"
      ]
     },
     "execution_count": 6,
     "metadata": {},
     "output_type": "execute_result"
    }
   ],
   "source": [
    "joined_array_1 = np.concatenate((arrA,arrA))\n",
    "joined_array_1"
   ]
  },
  {
   "cell_type": "code",
   "execution_count": 7,
   "id": "1cc3f190-e09b-4261-a577-34d9256332b1",
   "metadata": {},
   "outputs": [
    {
     "data": {
      "text/plain": [
       "array([[11, 12, 13, 11, 12, 13],\n",
       "       [14, 15, 16, 14, 15, 16]])"
      ]
     },
     "execution_count": 7,
     "metadata": {},
     "output_type": "execute_result"
    }
   ],
   "source": [
    "joined_array_2 = np.concatenate((arrA,arrA), axis=1)\n",
    "joined_array_2"
   ]
  },
  {
   "cell_type": "code",
   "execution_count": 8,
   "id": "fecffe9e-6334-4aa3-aab9-2879d8ee7333",
   "metadata": {},
   "outputs": [
    {
     "data": {
      "text/plain": [
       "array([[11, 12, 13],\n",
       "       [14, 15, 16],\n",
       "       [11, 12, 13],\n",
       "       [14, 15, 16],\n",
       "       [11, 12, 13],\n",
       "       [14, 15, 16],\n",
       "       [11, 12, 13],\n",
       "       [14, 15, 16]])"
      ]
     },
     "execution_count": 8,
     "metadata": {},
     "output_type": "execute_result"
    }
   ],
   "source": [
    "stacked_array_1 = np.concatenate((joined_array_1,joined_array_1))\n",
    "stacked_array_1"
   ]
  },
  {
   "cell_type": "code",
   "execution_count": 9,
   "id": "9645e1c5-4b0e-4b57-b43e-4685a7d96e04",
   "metadata": {},
   "outputs": [
    {
     "ename": "ValueError",
     "evalue": "all the input array dimensions except for the concatenation axis must match exactly, but along dimension 1, the array at index 0 has size 3 and the array at index 1 has size 6",
     "output_type": "error",
     "traceback": [
      "\u001b[1;31m---------------------------------------------------------------------------\u001b[0m",
      "\u001b[1;31mValueError\u001b[0m                                Traceback (most recent call last)",
      "Cell \u001b[1;32mIn[9], line 1\u001b[0m\n\u001b[1;32m----> 1\u001b[0m stacked_array_2 \u001b[38;5;241m=\u001b[39m \u001b[43mnp\u001b[49m\u001b[38;5;241;43m.\u001b[39;49m\u001b[43mconcatenate\u001b[49m\u001b[43m(\u001b[49m\u001b[43m(\u001b[49m\u001b[43mjoined_array_1\u001b[49m\u001b[43m,\u001b[49m\u001b[43mjoined_array_2\u001b[49m\u001b[43m)\u001b[49m\u001b[43m)\u001b[49m\n",
      "\u001b[1;31mValueError\u001b[0m: all the input array dimensions except for the concatenation axis must match exactly, but along dimension 1, the array at index 0 has size 3 and the array at index 1 has size 6"
     ]
    }
   ],
   "source": [
    "stacked_array_2 = np.concatenate((joined_array_1,joined_array_2))"
   ]
  },
  {
   "cell_type": "code",
   "execution_count": 10,
   "id": "24550e5c-5b06-4902-99a0-5509c49ca87a",
   "metadata": {},
   "outputs": [],
   "source": [
    "# A value error stating that array dimensions, excluding the concat axis, should match"
   ]
  },
  {
   "cell_type": "code",
   "execution_count": 11,
   "id": "25d22d68-c93d-4305-b005-e6672b62cb79",
   "metadata": {},
   "outputs": [
    {
     "data": {
      "text/plain": [
       "array([[11, 12, 13],\n",
       "       [14, 15, 16],\n",
       "       [11, 12, 13],\n",
       "       [14, 15, 16],\n",
       "       [11, 12, 13],\n",
       "       [14, 15, 16]])"
      ]
     },
     "execution_count": 11,
     "metadata": {},
     "output_type": "execute_result"
    }
   ],
   "source": [
    "another_joined_array = np.concatenate((joined_array_1,arrA))\n",
    "another_joined_array"
   ]
  },
  {
   "cell_type": "code",
   "execution_count": 12,
   "id": "b896f498-4e29-42a5-a5cb-526ab3b9a39d",
   "metadata": {},
   "outputs": [
    {
     "ename": "ValueError",
     "evalue": "all the input array dimensions except for the concatenation axis must match exactly, but along dimension 0, the array at index 0 has size 4 and the array at index 1 has size 2",
     "output_type": "error",
     "traceback": [
      "\u001b[1;31m---------------------------------------------------------------------------\u001b[0m",
      "\u001b[1;31mValueError\u001b[0m                                Traceback (most recent call last)",
      "Cell \u001b[1;32mIn[12], line 1\u001b[0m\n\u001b[1;32m----> 1\u001b[0m another_2 \u001b[38;5;241m=\u001b[39m \u001b[43mnp\u001b[49m\u001b[38;5;241;43m.\u001b[39;49m\u001b[43mconcatenate\u001b[49m\u001b[43m(\u001b[49m\u001b[43m(\u001b[49m\u001b[43mjoined_array_1\u001b[49m\u001b[43m,\u001b[49m\u001b[43marrA\u001b[49m\u001b[43m)\u001b[49m\u001b[43m,\u001b[49m\u001b[43m \u001b[49m\u001b[43maxis\u001b[49m\u001b[38;5;241;43m=\u001b[39;49m\u001b[38;5;241;43m1\u001b[39;49m\u001b[43m)\u001b[49m\n",
      "\u001b[1;31mValueError\u001b[0m: all the input array dimensions except for the concatenation axis must match exactly, but along dimension 0, the array at index 0 has size 4 and the array at index 1 has size 2"
     ]
    }
   ],
   "source": [
    "another_2 = np.concatenate((joined_array_1,arrA), axis=1)"
   ]
  },
  {
   "cell_type": "code",
   "execution_count": 13,
   "id": "d2504952-68a5-43f2-b4a0-edbde706aee3",
   "metadata": {},
   "outputs": [],
   "source": [
    "#  The same value error occures because both array's dimensions differ from each other"
   ]
  },
  {
   "cell_type": "code",
   "execution_count": 14,
   "id": "64a49952-6924-428b-8f53-efe66f204526",
   "metadata": {},
   "outputs": [
    {
     "data": {
      "text/plain": [
       "array([[11, 12, 13, 11, 12, 13],\n",
       "       [14, 15, 16, 14, 15, 16]])"
      ]
     },
     "execution_count": 14,
     "metadata": {},
     "output_type": "execute_result"
    }
   ],
   "source": [
    "stacked_arr_h = np.hstack((arrA, arrA))\n",
    "stacked_arr_h\n",
    "\n",
    "# Stacks horizontally or along rows"
   ]
  },
  {
   "cell_type": "code",
   "execution_count": 15,
   "id": "8b2fbd42-d571-41fb-a505-eccfaf1afcd3",
   "metadata": {},
   "outputs": [
    {
     "data": {
      "text/plain": [
       "array([[11, 12, 13],\n",
       "       [14, 15, 16],\n",
       "       [11, 12, 13],\n",
       "       [14, 15, 16]])"
      ]
     },
     "execution_count": 15,
     "metadata": {},
     "output_type": "execute_result"
    }
   ],
   "source": [
    "stacked_arr_v = np.vstack((arrA, arrA))\n",
    "stacked_arr_v\n",
    "\n",
    "# Stacks vertically or along columns"
   ]
  },
  {
   "cell_type": "code",
   "execution_count": 16,
   "id": "f76ddbe2-acc4-42c7-9866-317777bf28b7",
   "metadata": {},
   "outputs": [
    {
     "data": {
      "text/plain": [
       "array([[[11, 11],\n",
       "        [12, 12],\n",
       "        [13, 13]],\n",
       "\n",
       "       [[14, 14],\n",
       "        [15, 15],\n",
       "        [16, 16]]])"
      ]
     },
     "execution_count": 16,
     "metadata": {},
     "output_type": "execute_result"
    }
   ],
   "source": [
    "stacked_arr_d = np.dstack((arrA, arrA))\n",
    "stacked_arr_d\n",
    "\n",
    "# Stacks along height and depth"
   ]
  },
  {
   "cell_type": "markdown",
   "id": "5ee772c7-7d59-4a60-a0b4-d1efac0eada7",
   "metadata": {},
   "source": [
    "## Splitting Arrays"
   ]
  },
  {
   "cell_type": "code",
   "execution_count": 17,
   "id": "bf0d0084-6bfc-43d6-ad36-2063dd43904c",
   "metadata": {},
   "outputs": [
    {
     "data": {
      "text/plain": [
       "[array([[11, 12, 13],\n",
       "        [14, 15, 16]]),\n",
       " array([[11, 12, 13],\n",
       "        [14, 15, 16]])]"
      ]
     },
     "execution_count": 17,
     "metadata": {},
     "output_type": "execute_result"
    }
   ],
   "source": [
    "splitsky = np.array_split(joined_array_1, 2)\n",
    "splitsky\n",
    "# Splits the input into two 2-Dimensional arrays"
   ]
  },
  {
   "cell_type": "code",
   "execution_count": 18,
   "id": "f132db9e-a4f6-4200-83d6-86015bb67c4c",
   "metadata": {},
   "outputs": [
    {
     "data": {
      "text/plain": [
       "[array([[11, 12, 13],\n",
       "        [14, 15, 16]]),\n",
       " array([[11, 12, 13]]),\n",
       " array([[14, 15, 16]])]"
      ]
     },
     "execution_count": 18,
     "metadata": {},
     "output_type": "execute_result"
    }
   ],
   "source": [
    "spliterino = np.array_split(joined_array_1, 3)\n",
    "spliterino\n",
    "# Splits the input into three 2-dimensional arrays\n",
    "# First array has more values"
   ]
  },
  {
   "cell_type": "markdown",
   "id": "06b9c6aa-4a29-400a-80d0-279dd3909ec1",
   "metadata": {},
   "source": [
    "## Searching & Replacing Array Values"
   ]
  },
  {
   "cell_type": "code",
   "execution_count": 19,
   "id": "7ffeaf30-cb29-423a-bbaa-5a58ea3fc2ba",
   "metadata": {},
   "outputs": [
    {
     "name": "stdout",
     "output_type": "stream",
     "text": [
      "odd\n",
      "odd\n",
      "odd\n",
      "[np.int64(12), np.int64(14), np.int64(16)]\n"
     ]
    }
   ],
   "source": [
    "def get_even_numbers(numbers):\n",
    "    even_numbers = []\n",
    "    for number in numbers:\n",
    "        if number % 2 == 0:\n",
    "            even_numbers.append(number)\n",
    "        else:\n",
    "            print('odd')\n",
    "    return even_numbers\n",
    "\n",
    "arr = np.array([11, 12, 13, 14, 15, 16])\n",
    "result = get_even_numbers(arr)\n",
    "\n",
    "print(result)"
   ]
  },
  {
   "cell_type": "markdown",
   "id": "fff1f24d-7c6c-4e19-99e1-e39058a988e6",
   "metadata": {},
   "source": [
    "## Filtering Arrays"
   ]
  },
  {
   "cell_type": "code",
   "execution_count": 20,
   "id": "2f59804a-b114-45db-b91f-62e767341858",
   "metadata": {},
   "outputs": [
    {
     "name": "stdout",
     "output_type": "stream",
     "text": [
      "[[ 6  7]\n",
      " [ 5 13]\n",
      " [ 3  7]]\n"
     ]
    }
   ],
   "source": [
    "arrB = np.array([[7,6], [13,5], [7,3]])\n",
    "arrB_sorted = np.sort(arrB)\n",
    "print(arrB_sorted)"
   ]
  },
  {
   "cell_type": "code",
   "execution_count": 21,
   "id": "c16ad971-e96e-4878-a22a-2cf0682f14a5",
   "metadata": {},
   "outputs": [
    {
     "name": "stdout",
     "output_type": "stream",
     "text": [
      "[6 5 3]\n"
     ]
    }
   ],
   "source": [
    "z = arrB < 7\n",
    "arrC = arrB[z]\n",
    "print(arrC)\n"
   ]
  },
  {
   "cell_type": "code",
   "execution_count": 22,
   "id": "f68b2f19-9cd2-4fa4-bb99-273e293f7d5d",
   "metadata": {},
   "outputs": [
    {
     "name": "stdout",
     "output_type": "stream",
     "text": [
      "[ 7 13  7]\n"
     ]
    }
   ],
   "source": [
    "y = arrB >= 7\n",
    "arrD = arrB[y]\n",
    "print(arrD)\n"
   ]
  },
  {
   "cell_type": "code",
   "execution_count": null,
   "id": "c1aabec7-52a5-41fa-b29a-c55957a5d4c5",
   "metadata": {},
   "outputs": [],
   "source": []
  }
 ],
 "metadata": {
  "kernelspec": {
   "display_name": "Python 3 (ipykernel)",
   "language": "python",
   "name": "python3"
  },
  "language_info": {
   "codemirror_mode": {
    "name": "ipython",
    "version": 3
   },
   "file_extension": ".py",
   "mimetype": "text/x-python",
   "name": "python",
   "nbconvert_exporter": "python",
   "pygments_lexer": "ipython3",
   "version": "3.13.0rc1"
  }
 },
 "nbformat": 4,
 "nbformat_minor": 5
}
