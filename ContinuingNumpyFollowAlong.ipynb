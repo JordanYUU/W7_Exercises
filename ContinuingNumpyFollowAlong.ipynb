{
 "cells": [
  {
   "cell_type": "markdown",
   "id": "569e3177-7e11-4606-a7bc-4f0e93b52c79",
   "metadata": {},
   "source": [
    "# Numpy Continued (Follow Along)"
   ]
  },
  {
   "cell_type": "markdown",
   "id": "c2bb6437-2c40-48b5-8953-0f9d245157a9",
   "metadata": {},
   "source": [
    "### [ENTER]"
   ]
  },
  {
   "cell_type": "code",
   "execution_count": 1,
   "id": "a5caa32a-3fdb-4ce1-8a7e-0219d58e1ee2",
   "metadata": {},
   "outputs": [],
   "source": [
    "import numpy as np"
   ]
  },
  {
   "cell_type": "code",
   "execution_count": 4,
   "id": "9e8b6532-a9c9-4164-b1ba-966392cd8b0d",
   "metadata": {},
   "outputs": [
    {
     "data": {
      "text/plain": [
       "array([2, 4, 6, 8])"
      ]
     },
     "execution_count": 4,
     "metadata": {},
     "output_type": "execute_result"
    }
   ],
   "source": [
    "arr1d = np.array([2, 4, 6, 8])\n",
    "arr1d"
   ]
  },
  {
   "cell_type": "code",
   "execution_count": 61,
   "id": "b1cc91cf-3da2-44d8-9a8b-259c36f6c50f",
   "metadata": {},
   "outputs": [
    {
     "name": "stdout",
     "output_type": "stream",
     "text": [
      "2\n",
      "4\n",
      "6\n",
      "8\n"
     ]
    }
   ],
   "source": [
    "for i in arr1d:\n",
    "    print(i)"
   ]
  },
  {
   "cell_type": "code",
   "execution_count": 7,
   "id": "f65407c1-fedd-479d-a16e-8cf784842d4d",
   "metadata": {},
   "outputs": [
    {
     "name": "stdout",
     "output_type": "stream",
     "text": [
      "[[8 7]\n",
      " [6 5]]\n",
      "[[4 3]\n",
      " [2 1]]\n"
     ]
    }
   ],
   "source": [
    "arr3d = np.array([[[8,7], [6,5]], [[4,3], [2,1]]])\n",
    "\n",
    "for i in arr3d:\n",
    "    print(i)"
   ]
  },
  {
   "cell_type": "code",
   "execution_count": 9,
   "id": "37a7be3a-a266-4a1b-b76e-26f6a8451672",
   "metadata": {},
   "outputs": [
    {
     "name": "stdout",
     "output_type": "stream",
     "text": [
      "[8 7]\n",
      "[6 5]\n",
      "[4 3]\n",
      "[2 1]\n"
     ]
    }
   ],
   "source": [
    "for i in arr3d:\n",
    "    for x in i:\n",
    "        print(x)"
   ]
  },
  {
   "cell_type": "code",
   "execution_count": 8,
   "id": "67f72379-ec45-4b90-adf8-35c6be6496b7",
   "metadata": {},
   "outputs": [
    {
     "name": "stdout",
     "output_type": "stream",
     "text": [
      "8\n",
      "7\n",
      "6\n",
      "5\n",
      "4\n",
      "3\n",
      "2\n",
      "1\n"
     ]
    }
   ],
   "source": [
    "for i in arr3d:\n",
    "    for x in i:\n",
    "        for a in x:\n",
    "            print(a)"
   ]
  },
  {
   "cell_type": "markdown",
   "id": "2e8bc453-b91b-44c1-a710-264439e425e4",
   "metadata": {},
   "source": [
    "### 2.B.2 Joining arrays with concatenate()"
   ]
  },
  {
   "cell_type": "code",
   "execution_count": 11,
   "id": "4141501f-6b37-41c4-a066-a25906249695",
   "metadata": {},
   "outputs": [],
   "source": [
    "arr_a = np.array([1, 2, 3])\n",
    "arr_b = np.array([11, 12, 13])"
   ]
  },
  {
   "cell_type": "code",
   "execution_count": 12,
   "id": "21996d59-eb42-43f1-bc37-0aac231d76b0",
   "metadata": {},
   "outputs": [
    {
     "data": {
      "text/plain": [
       "array([ 1,  2,  3, 11, 12, 13])"
      ]
     },
     "execution_count": 12,
     "metadata": {},
     "output_type": "execute_result"
    }
   ],
   "source": [
    "arr_c = np.concatenate((arr_a, arr_b))\n",
    "arr_c"
   ]
  },
  {
   "cell_type": "code",
   "execution_count": 14,
   "id": "34094c4d-6fdb-44e3-ab2f-b5929a6afb2e",
   "metadata": {},
   "outputs": [
    {
     "data": {
      "text/plain": [
       "array([ 1,  2,  3, 11, 12, 13])"
      ]
     },
     "execution_count": 14,
     "metadata": {},
     "output_type": "execute_result"
    }
   ],
   "source": [
    "arr_d = np.concatenate((arr_a, arr_b), axis=0)\n",
    "arr_d"
   ]
  },
  {
   "cell_type": "code",
   "execution_count": 18,
   "id": "4985f990-dc77-4312-a02e-bfb2f1c32278",
   "metadata": {},
   "outputs": [
    {
     "data": {
      "text/plain": [
       "array([[ 1,  2,  3],\n",
       "       [11, 12, 13]])"
      ]
     },
     "execution_count": 18,
     "metadata": {},
     "output_type": "execute_result"
    }
   ],
   "source": [
    "arr_stacked = np.stack((arr_a, arr_b))\n",
    "arr_stacked"
   ]
  },
  {
   "cell_type": "code",
   "execution_count": 20,
   "id": "047d4e27-6db1-4919-98be-6a437150e04a",
   "metadata": {},
   "outputs": [
    {
     "data": {
      "text/plain": [
       "array([[ 1, 11],\n",
       "       [ 2, 12],\n",
       "       [ 3, 13]])"
      ]
     },
     "execution_count": 20,
     "metadata": {},
     "output_type": "execute_result"
    }
   ],
   "source": [
    "arr_stacked2 = np.stack((arr_a, arr_b), axis=1)\n",
    "arr_stacked2"
   ]
  },
  {
   "cell_type": "code",
   "execution_count": 22,
   "id": "5da11594-acd7-44ef-8c12-760aa11c4fed",
   "metadata": {},
   "outputs": [
    {
     "data": {
      "text/plain": [
       "array([[ 1,  2,  3],\n",
       "       [11, 12, 13],\n",
       "       [ 1,  2,  3],\n",
       "       [11, 12, 13]])"
      ]
     },
     "execution_count": 22,
     "metadata": {},
     "output_type": "execute_result"
    }
   ],
   "source": [
    "arr_sos = np.concatenate((arr_stacked, arr_stacked))\n",
    "arr_sos"
   ]
  },
  {
   "cell_type": "code",
   "execution_count": 23,
   "id": "66760eda-3294-4244-9e0e-cab2600c61e1",
   "metadata": {},
   "outputs": [
    {
     "data": {
      "text/plain": [
       "array([[ 1,  2,  3,  1,  2,  3],\n",
       "       [11, 12, 13, 11, 12, 13]])"
      ]
     },
     "execution_count": 23,
     "metadata": {},
     "output_type": "execute_result"
    }
   ],
   "source": [
    "arr_sos2 = np.concatenate((arr_stacked, arr_stacked), axis=1)\n",
    "arr_sos2"
   ]
  },
  {
   "cell_type": "code",
   "execution_count": 24,
   "id": "ed7f1081-e66f-42a8-90a2-2ac4edaf0cbb",
   "metadata": {},
   "outputs": [
    {
     "data": {
      "text/plain": [
       "array([[ 1,  2,  3,  1,  2,  3],\n",
       "       [11, 12, 13, 11, 12, 13]])"
      ]
     },
     "execution_count": 24,
     "metadata": {},
     "output_type": "execute_result"
    }
   ],
   "source": [
    "arr_hstk = np.hstack((arr_stacked, arr_stacked))\n",
    "arr_hstk"
   ]
  },
  {
   "cell_type": "code",
   "execution_count": 25,
   "id": "ed20f283-0c1d-465c-b9e6-86a8ae389b83",
   "metadata": {},
   "outputs": [
    {
     "data": {
      "text/plain": [
       "array([[ 1,  2,  3],\n",
       "       [11, 12, 13],\n",
       "       [ 1,  2,  3],\n",
       "       [11, 12, 13]])"
      ]
     },
     "execution_count": 25,
     "metadata": {},
     "output_type": "execute_result"
    }
   ],
   "source": [
    "arr_vstk = np.vstack((arr_stacked, arr_stacked))\n",
    "arr_vstk"
   ]
  },
  {
   "cell_type": "code",
   "execution_count": 26,
   "id": "3ab6d435-c5ae-429c-a38d-30fa592d58fe",
   "metadata": {},
   "outputs": [
    {
     "data": {
      "text/plain": [
       "array([[[ 1,  1],\n",
       "        [ 2,  2],\n",
       "        [ 3,  3]],\n",
       "\n",
       "       [[11, 11],\n",
       "        [12, 12],\n",
       "        [13, 13]]])"
      ]
     },
     "execution_count": 26,
     "metadata": {},
     "output_type": "execute_result"
    }
   ],
   "source": [
    "arr_dstk = np.dstack((arr_stacked, arr_stacked))\n",
    "arr_dstk"
   ]
  },
  {
   "cell_type": "markdown",
   "id": "64bbcc24-cbcf-47f1-b8da-6d949cb45e59",
   "metadata": {},
   "source": [
    "### 2.B.5 Splitting Arrays"
   ]
  },
  {
   "cell_type": "code",
   "execution_count": 27,
   "id": "da4e78f2-039a-4215-ba86-dfc0a28a5424",
   "metadata": {},
   "outputs": [
    {
     "data": {
      "text/plain": [
       "array([[ 1,  2,  3],\n",
       "       [11, 12, 13],\n",
       "       [ 1,  2,  3],\n",
       "       [11, 12, 13]])"
      ]
     },
     "execution_count": 27,
     "metadata": {},
     "output_type": "execute_result"
    }
   ],
   "source": [
    "arr_vstk"
   ]
  },
  {
   "cell_type": "code",
   "execution_count": 29,
   "id": "d8f56468-3114-424d-8add-77dce2c8bdbf",
   "metadata": {},
   "outputs": [
    {
     "data": {
      "text/plain": [
       "[array([[ 1,  2,  3],\n",
       "        [11, 12, 13]]),\n",
       " array([[1, 2, 3]]),\n",
       " array([[11, 12, 13]])]"
      ]
     },
     "execution_count": 29,
     "metadata": {},
     "output_type": "execute_result"
    }
   ],
   "source": [
    "split_3way = np.array_split(arr_vstk, 3)\n",
    "split_3way"
   ]
  },
  {
   "cell_type": "code",
   "execution_count": 30,
   "id": "b95613d2-59c0-4df3-b450-184261279f39",
   "metadata": {},
   "outputs": [
    {
     "data": {
      "text/plain": [
       "[array([[1, 2, 3]]),\n",
       " array([[11, 12, 13]]),\n",
       " array([[1, 2, 3]]),\n",
       " array([[11, 12, 13]])]"
      ]
     },
     "execution_count": 30,
     "metadata": {},
     "output_type": "execute_result"
    }
   ],
   "source": [
    "split_4way = np.array_split(arr_vstk, 4)\n",
    "split_4way"
   ]
  },
  {
   "cell_type": "code",
   "execution_count": 31,
   "id": "be81c77f-7440-4b63-80c9-212f46677b35",
   "metadata": {},
   "outputs": [
    {
     "data": {
      "text/plain": [
       "[array([[1, 2, 3]]),\n",
       " array([[11, 12, 13]]),\n",
       " array([[1, 2, 3]]),\n",
       " array([[11, 12, 13]])]"
      ]
     },
     "execution_count": 31,
     "metadata": {},
     "output_type": "execute_result"
    }
   ],
   "source": [
    "split_4_0 = np.array_split(arr_vstk, 4, axis=0)\n",
    "split_4_0"
   ]
  },
  {
   "cell_type": "code",
   "execution_count": 32,
   "id": "ee7d7396-77ca-412c-b9b2-91677eda2450",
   "metadata": {},
   "outputs": [
    {
     "data": {
      "text/plain": [
       "[array([[ 1],\n",
       "        [11],\n",
       "        [ 1],\n",
       "        [11]]),\n",
       " array([[ 2],\n",
       "        [12],\n",
       "        [ 2],\n",
       "        [12]]),\n",
       " array([[ 3],\n",
       "        [13],\n",
       "        [ 3],\n",
       "        [13]]),\n",
       " array([], shape=(4, 0), dtype=int64)]"
      ]
     },
     "execution_count": 32,
     "metadata": {},
     "output_type": "execute_result"
    }
   ],
   "source": [
    "split_4_1 = np.array_split(arr_vstk, 4, axis=1)\n",
    "split_4_1"
   ]
  },
  {
   "cell_type": "markdown",
   "id": "6c0fbebd-7df0-4989-b7d2-85ac797ff322",
   "metadata": {},
   "source": [
    "### 2.B.6 Using Where() To Search and Alter Arrays"
   ]
  },
  {
   "cell_type": "code",
   "execution_count": 34,
   "id": "aae5f58f-1e5b-40d7-8270-ecf164479b67",
   "metadata": {},
   "outputs": [
    {
     "data": {
      "text/plain": [
       "(array([0, 2, 4]),)"
      ]
     },
     "execution_count": 34,
     "metadata": {},
     "output_type": "execute_result"
    }
   ],
   "source": [
    "values = np.array([4, 9, 4, 8, 0, 6])\n",
    "cond1 = np.where(values < 5)\n",
    "cond1"
   ]
  },
  {
   "cell_type": "code",
   "execution_count": 36,
   "id": "3d30faa3-0859-44d3-8451-058cb95c8bc5",
   "metadata": {},
   "outputs": [
    {
     "name": "stdout",
     "output_type": "stream",
     "text": [
      "[[0 2 4]]\n"
     ]
    }
   ],
   "source": [
    "print(np.array(cond1))"
   ]
  },
  {
   "cell_type": "code",
   "execution_count": 40,
   "id": "824af202-f4a6-486c-b8d5-ee27984560fe",
   "metadata": {},
   "outputs": [
    {
     "name": "stdout",
     "output_type": "stream",
     "text": [
      "[4.  8.1 4.  7.2 0.  5.4]\n"
     ]
    }
   ],
   "source": [
    "cond2 = np.where(values < 5, values, values * .9)\n",
    "print(cond2)"
   ]
  },
  {
   "cell_type": "code",
   "execution_count": 45,
   "id": "4da2971a-e78a-4a92-9a23-09dee2ed4a83",
   "metadata": {},
   "outputs": [
    {
     "name": "stdout",
     "output_type": "stream",
     "text": [
      "['4' 'over 5' '4' 'over 5' '0' 'over 5']\n"
     ]
    }
   ],
   "source": [
    "cond3 = np.where(values < 5, values, 'over 5')\n",
    "print(cond3)"
   ]
  },
  {
   "cell_type": "code",
   "execution_count": 46,
   "id": "911c1b52-8110-4029-840c-70297566b48f",
   "metadata": {},
   "outputs": [
    {
     "data": {
      "text/plain": [
       "array([[ 1,  2,  3],\n",
       "       [11, 12, 13],\n",
       "       [ 1,  2,  3],\n",
       "       [11, 12, 13]])"
      ]
     },
     "execution_count": 46,
     "metadata": {},
     "output_type": "execute_result"
    }
   ],
   "source": [
    "arr_vstk"
   ]
  },
  {
   "cell_type": "code",
   "execution_count": 47,
   "id": "2665993a-472f-4187-a445-9fc77043eff0",
   "metadata": {},
   "outputs": [
    {
     "data": {
      "text/plain": [
       "(array([1, 1, 1, 3, 3, 3]), array([0, 1, 2, 0, 1, 2]))"
      ]
     },
     "execution_count": 47,
     "metadata": {},
     "output_type": "execute_result"
    }
   ],
   "source": [
    "cond4 = np.where(arr_vstk > 10)\n",
    "cond4"
   ]
  },
  {
   "cell_type": "code",
   "execution_count": 50,
   "id": "c26ec978-77de-4a9c-897a-9c94ce866346",
   "metadata": {},
   "outputs": [
    {
     "name": "stdout",
     "output_type": "stream",
     "text": [
      "[['down' 'down' 'down']\n",
      " ['up' 'up' 'up']\n",
      " ['down' 'down' 'down']\n",
      " ['up' 'up' 'up']]\n"
     ]
    }
   ],
   "source": [
    "cond5 = np.where(arr_vstk > 10, 'up', 'down')\n",
    "print(cond5)"
   ]
  },
  {
   "cell_type": "markdown",
   "id": "b4ade770-3dc7-4e56-96ce-d129de5c5efb",
   "metadata": {},
   "source": [
    "### 2.B.7 Sorting Arrays"
   ]
  },
  {
   "cell_type": "code",
   "execution_count": 51,
   "id": "e1760ecc-dfe8-483c-955a-2956b9f5e392",
   "metadata": {},
   "outputs": [
    {
     "data": {
      "text/plain": [
       "array([4, 9, 4, 8, 0, 6])"
      ]
     },
     "execution_count": 51,
     "metadata": {},
     "output_type": "execute_result"
    }
   ],
   "source": [
    "values"
   ]
  },
  {
   "cell_type": "code",
   "execution_count": 52,
   "id": "63b1278d-8f9f-48f2-9869-963eebfe8fcc",
   "metadata": {},
   "outputs": [
    {
     "data": {
      "text/plain": [
       "array([[ 1,  2,  3],\n",
       "       [11, 12, 13],\n",
       "       [ 1,  2,  3],\n",
       "       [11, 12, 13]])"
      ]
     },
     "execution_count": 52,
     "metadata": {},
     "output_type": "execute_result"
    }
   ],
   "source": [
    "arr_vstk"
   ]
  },
  {
   "cell_type": "code",
   "execution_count": 53,
   "id": "c0a56476-8df4-4207-9954-bf4f6c04e6c0",
   "metadata": {},
   "outputs": [
    {
     "name": "stdout",
     "output_type": "stream",
     "text": [
      "[0 4 4 6 8 9]\n"
     ]
    }
   ],
   "source": [
    "print(np.sort(values))"
   ]
  },
  {
   "cell_type": "code",
   "execution_count": 54,
   "id": "9160ecaa-229b-424d-8084-41c894873550",
   "metadata": {},
   "outputs": [
    {
     "name": "stdout",
     "output_type": "stream",
     "text": [
      "[[ 1  2  3]\n",
      " [11 12 13]\n",
      " [ 1  2  3]\n",
      " [11 12 13]]\n"
     ]
    }
   ],
   "source": [
    "print(np.sort(arr_vstk))"
   ]
  },
  {
   "cell_type": "code",
   "execution_count": 55,
   "id": "b61b63b3-d0fe-4a09-b731-b842d35ec53f",
   "metadata": {},
   "outputs": [
    {
     "name": "stdout",
     "output_type": "stream",
     "text": [
      "[['down' 'down' 'down']\n",
      " ['up' 'up' 'up']\n",
      " ['down' 'down' 'down']\n",
      " ['up' 'up' 'up']]\n"
     ]
    }
   ],
   "source": [
    "print(np.sort(cond5))"
   ]
  },
  {
   "cell_type": "markdown",
   "id": "0887f429-b126-425d-a15d-8720cb50e898",
   "metadata": {},
   "source": [
    "### 2.B.8 Filtering Arrays"
   ]
  },
  {
   "cell_type": "code",
   "execution_count": 56,
   "id": "51a05e9e-c046-426c-9ef4-bd0623dbbe3f",
   "metadata": {},
   "outputs": [
    {
     "data": {
      "text/plain": [
       "array([14,  9,  4, 18,  0,  6])"
      ]
     },
     "execution_count": 56,
     "metadata": {},
     "output_type": "execute_result"
    }
   ],
   "source": [
    "z = np.array([14, 9, 4, 18, 0, 6])\n",
    "z"
   ]
  },
  {
   "cell_type": "code",
   "execution_count": 57,
   "id": "b1e575d6-f64a-4d1c-8cc7-b9885da5b277",
   "metadata": {},
   "outputs": [
    {
     "name": "stdout",
     "output_type": "stream",
     "text": [
      "[True, False, False, True, False, False]\n"
     ]
    }
   ],
   "source": [
    "# Standard Python method\n",
    "\n",
    "filter_z = []\n",
    "\n",
    "for i in z:\n",
    "    if i > 10:\n",
    "        filter_z.append(True)\n",
    "    else:\n",
    "        filter_z.append(False)\n",
    "\n",
    "print(filter_z)"
   ]
  },
  {
   "cell_type": "code",
   "execution_count": 58,
   "id": "039f74be-a3f6-4320-b65a-fa0c5f05e260",
   "metadata": {},
   "outputs": [
    {
     "name": "stdout",
     "output_type": "stream",
     "text": [
      "[14 18]\n"
     ]
    }
   ],
   "source": [
    "# Applying boolean index\n",
    "\n",
    "y = z[filter_z]\n",
    "print(y)"
   ]
  },
  {
   "cell_type": "code",
   "execution_count": 59,
   "id": "93accd9b-8ed9-42c4-b690-1ee1c84ce810",
   "metadata": {},
   "outputs": [
    {
     "name": "stdout",
     "output_type": "stream",
     "text": [
      "[14 18]\n"
     ]
    }
   ],
   "source": [
    "x = z > 10\n",
    "z_over_10 = z[x]\n",
    "print(z_over_10)"
   ]
  },
  {
   "cell_type": "markdown",
   "id": "fbce2c4e-0f5b-48bb-98c6-7dff4a936952",
   "metadata": {},
   "source": [
    "# Section 2.C Random in NumPy"
   ]
  },
  {
   "cell_type": "code",
   "execution_count": null,
   "id": "f579618c-0607-48d4-99d0-a1d4f3db748f",
   "metadata": {},
   "outputs": [],
   "source": [
    "h = np.random.randint(1, 200, size="
   ]
  }
 ],
 "metadata": {
  "kernelspec": {
   "display_name": "Python 3 (ipykernel)",
   "language": "python",
   "name": "python3"
  },
  "language_info": {
   "codemirror_mode": {
    "name": "ipython",
    "version": 3
   },
   "file_extension": ".py",
   "mimetype": "text/x-python",
   "name": "python",
   "nbconvert_exporter": "python",
   "pygments_lexer": "ipython3",
   "version": "3.13.0rc1"
  }
 },
 "nbformat": 4,
 "nbformat_minor": 5
}
